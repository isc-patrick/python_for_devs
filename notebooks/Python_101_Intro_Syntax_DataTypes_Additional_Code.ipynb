{
  "cells": [
    {
      "cell_type": "markdown",
      "id": "775ab4ad",
      "metadata": {
        "id": "775ab4ad"
      },
      "source": [
        "# Python 101: Introduction to Python and Jupyter\n",
        "\n",
        "Python is similar to Object Script in many ways. It is an Object Oriented, dynamically typed, scripting language. It's defacto implementation is CPython, which is as you would guess written in C, and memory is handled for you(though you can explicitly delete vars and nudge the garbage collecter).\n",
        "\n",
        "Python is often used mostly as a DSL where almost all of the code is executed within C and the data doesn't have to cross into Python. This is why Python is often used in compute and data intensive work, even though it is not a particularly fast language and does not have any way of doing parallel execution of code through threads because of the GIL.\n"
      ]
    },
    {
      "cell_type": "markdown",
      "source": [
        "\n",
        "No one is going to learn python in 1-2 hours, so we are not even going to pretend to do that or review such rudimentary things you can learn in some more robust context. Python syntax was designed to be easy to read and close to English. For this reason, well written Python needs less inline comments than most code.\n",
        "\n",
        "The goal of these sessions is to make you confident that you can start and continue to learn python over the next 10 weeks and have fun doing it. Python is a geat language for many things and Jupyter notebooks are really fun to work in, especially when learning, because you can iterate and get feedback faster than other DEV IDE I have ever seen. Jupyter Notebooks are not just for Python, though the Python Kernel is the most popular. This is the active list of Jupyter Kernels, https://github.com/jupyter/jupyter/wiki/Jupyter-kernels.\n",
        "\n",
        "These are essentially just language runtimes that have implemented a wrapper that communicates to the web browser via (zeromq)[https://zeromq.org/]\n",
        "\n"
      ],
      "metadata": {
        "id": "cDwDJu3xIY9f"
      },
      "id": "cDwDJu3xIY9f"
    },
    {
      "cell_type": "markdown",
      "source": [
        "## Jupyter\n",
        "Jupyter is a great tool for:\n",
        "\n",
        "- Rapid development and learning. The feedback loop is faster than a REPL because the of the UI.\n",
        "- Notebooks are great for content presentation because they can contain code, markdown and output cells with extensive visualizations\n",
        "- Data science: because the interpreter lifecycle is controlled by the user, not the running of a script. Load a large dataset and then work with it in a bunch of different ways without having to reload or recompute expensive steps for new iterations.\n",
        "\n",
        "__Rapid development__\n",
        "  - Jupyter has 2 modes: Command and Edit, like vim\n",
        "    - Colab can have some subtle differences, but this is true of all Jupyter instances as it is a highly customizable environ but these core shortcuts are typically(all cases I've seen) the same\n",
        "  - Enter/Return takes you into edit mode and puts cursor where it last was in the cell\n",
        "  - Esc takes you into command mode\n",
        "  - Command mode\n",
        "    - up/down arrow moves you between cells\n",
        "    - a and b stand for above and below and inserts a new cell into that position\n",
        "   \n",
        "  - Edit mode\n",
        "    - CMD/CTRL+Enter runs a cell, Shift+Enter runs a cell and shifts focus into next cell\n",
        "      - You can use Shift+Enter consecutevily to run all cells from yuor starting point even if some contain markdown\n",
        "    - intellisense showing you functions and props after .\n",
        "    - args are shown after first (\n",
        "    - For more details about a function/method just add a ? and run the cell"
      ],
      "metadata": {
        "id": "FpadHtOWE_9-"
      },
      "id": "FpadHtOWE_9-"
    },
    {
      "cell_type": "code",
      "source": [
        "# Python's design philosophy\n",
        "import this"
      ],
      "metadata": {
        "id": "fdlAEQXJYJD9",
        "colab": {
          "base_uri": "https://localhost:8080/"
        },
        "outputId": "b5c6db4a-8e0e-4771-cf0d-12d4cc3f187d"
      },
      "id": "fdlAEQXJYJD9",
      "execution_count": null,
      "outputs": [
        {
          "output_type": "stream",
          "name": "stdout",
          "text": [
            "The Zen of Python, by Tim Peters\n",
            "\n",
            "Beautiful is better than ugly.\n",
            "Explicit is better than implicit.\n",
            "Simple is better than complex.\n",
            "Complex is better than complicated.\n",
            "Flat is better than nested.\n",
            "Sparse is better than dense.\n",
            "Readability counts.\n",
            "Special cases aren't special enough to break the rules.\n",
            "Although practicality beats purity.\n",
            "Errors should never pass silently.\n",
            "Unless explicitly silenced.\n",
            "In the face of ambiguity, refuse the temptation to guess.\n",
            "There should be one-- and preferably only one --obvious way to do it.\n",
            "Although that way may not be obvious at first unless you're Dutch.\n",
            "Now is better than never.\n",
            "Although never is often better than *right* now.\n",
            "If the implementation is hard to explain, it's a bad idea.\n",
            "If the implementation is easy to explain, it may be a good idea.\n",
            "Namespaces are one honking great idea -- let's do more of those!\n"
          ]
        }
      ]
    },
    {
      "cell_type": "markdown",
      "id": "d12397a3",
      "metadata": {
        "id": "d12397a3"
      },
      "source": [
        "## Python Syntax Overview\n",
        "\n",
        "Python uses indentation to define blocks of code. Every block in Python (functions, conditionals, loops) is defined by whitespace — typically **4 spaces**.\n",
        "\n",
        "**Comments** in Python start with `#`, and multiple lines of comments are best done with triple quotes."
      ]
    },
    {
      "cell_type": "code",
      "execution_count": null,
      "id": "bf55580c",
      "metadata": {
        "id": "bf55580c"
      },
      "outputs": [],
      "source": [
        "# A basic comment\n",
        "name = 'Alice'  # This is a string\n",
        "age = 28        # This is an integer\n",
        "is_active = True  # This is a boolean\n",
        "\n",
        "\"\"\" A really\n",
        "really\n",
        "long\n",
        "comment\n",
        "\"\"\"\n",
        "\n",
        "'''I don't\n",
        "care if\n",
        "you use double\n",
        "or single triple quotes\n",
        "'''"
      ]
    },
    {
      "cell_type": "markdown",
      "id": "59b14626",
      "metadata": {
        "id": "59b14626"
      },
      "source": [
        "## Core Data Types in Python\n",
        "\n",
        "**Python is dynamically typed**\n",
        "\n",
        "**Common data types:**\n",
        "- `int` → whole numbers\n",
        "- `float` → decimal numbers\n",
        "- `str` → strings of text\n",
        "- `bool` → `True` or `False`\n",
        "- `list`, `tuple`, `dict`, `set` → collections of items"
      ]
    },
    {
      "cell_type": "code",
      "execution_count": null,
      "id": "1714c644",
      "metadata": {
        "id": "1714c644"
      },
      "outputs": [],
      "source": [
        "int_num = 42\n",
        "float_num = 3.14\n",
        "text = 'Data Science'\n",
        "flag = True\n",
        "\n",
        "sample_list = [10, 20, 30]\n",
        "sample_tuple = (1, 2, 3)\n",
        "sample_set = {1, 2, 3}\n",
        "\n",
        "sample_dict = {'name': 'Bob', 'age': 30}\n",
        "sample_set = {1, 2, 3}"
      ]
    },
    {
      "cell_type": "markdown",
      "id": "d8e0ec32",
      "metadata": {
        "id": "d8e0ec32"
      },
      "source": [
        "## Control Flow: if / elif / else\n"
      ]
    },
    {
      "cell_type": "code",
      "execution_count": null,
      "id": "6dbf09a9",
      "metadata": {
        "id": "6dbf09a9"
      },
      "outputs": [],
      "source": [
        "x = 15\n",
        "if x < 10:\n",
        "    print(\"Less than 10\")\n",
        "elif x == 10:\n",
        "    print(\"Exactly 10\")\n",
        "else:\n",
        "    print(\"Greater than 10\")\n",
        "\n",
        "if x > 12 or x < 16:\n",
        "  print(\"x is between 12 and 16\")"
      ]
    },
    {
      "cell_type": "markdown",
      "id": "66159425",
      "metadata": {
        "id": "66159425"
      },
      "source": [
        "## Loops: for and while\n",
        "\n",
        "**Python `for` loops** iterate over collections. This is closer to `foreach` in high-level languages.\n",
        "**`while` loops** are used for condition-based iteration"
      ]
    },
    {
      "cell_type": "markdown",
      "source": [
        "## Sequences\n",
        "\n",
        "The standard library offers a rich selection of sequence types implemented in C:\n",
        "\n",
        "__Container sequences__\n",
        "  - list, tuple, and collections.deque can hold items of different types. Flat sequences\n",
        "  - str, bytes, bytearray, memoryview, and array.array hold items of one type.\n",
        "\n",
        "Container sequences hold references to the objects they contain, which may be of any type, while flat sequences physically store the value of each item within its own memory space, and not as distinct objects. Thus, flat sequences are more compact, but they are limited to holding primitive values like characters, bytes, and numbers.\n",
        "\n",
        "Another way of grouping sequence types is by mutability:  \n",
        "__Mutable sequences__  \n",
        "list, bytearray, array.array, collections.deque, and memoryview\n",
        "\n",
        "__Immutable sequences__  \n",
        "tuple, str, and bytes"
      ],
      "metadata": {
        "id": "uNly_qeEsOwa"
      },
      "id": "uNly_qeEsOwa"
    },
    {
      "cell_type": "code",
      "execution_count": null,
      "id": "ad8015d0",
      "metadata": {
        "id": "ad8015d0"
      },
      "outputs": [],
      "source": [
        "for i in range(3):  # loops from 0 to 2\n",
        "    print(\"For loop index:\", i)\n",
        "\n",
        "x = 0\n",
        "while x < 3:\n",
        "    print(\"While loop index:\", x)\n",
        "    x += 1\n",
        "\n",
        "str_list = 'abcd'\n",
        "for c in str_list:\n",
        "  print(c)\n",
        "\n",
        "# Any class that implements __iter__ and __next__ can be used in for loop\n",
        "# Python uses Duck typing, though one can use an Abstract class to enforce method implementations if desired\n",
        "class SimpleCounter:\n",
        "  def __init__(self, max):\n",
        "    self.max = max\n",
        "\n",
        "  def __iter__(self):\n",
        "    self.n = 0\n",
        "    return self\n",
        "\n",
        "  def __next__(self):\n",
        "    if self.n < self.max:\n",
        "      result = self.n\n",
        "      self.n += 1\n",
        "      return result\n",
        "    else:\n",
        "      raise StopIteration\n",
        "\n",
        "sc = SimpleCounter(3)\n",
        "for i in sc:\n",
        "  print(i)\n",
        "\n",
        "# List Comprehensions are commonly used for simply loops\n",
        "print([i for i in sc])\n",
        "\n",
        "# Ternary statements\n",
        "x = 10\n",
        "result = \"Even\" if x % 2 == 0 else \"Odd\"\n",
        "print(result)"
      ]
    },
    {
      "cell_type": "markdown",
      "id": "48aa31af",
      "metadata": {
        "id": "48aa31af"
      },
      "source": [
        "## Functions\n",
        "\n",
        "Functions are declared using `def` and allow reusable logic."
      ]
    },
    {
      "cell_type": "code",
      "execution_count": null,
      "id": "10ff556f",
      "metadata": {
        "id": "10ff556f",
        "colab": {
          "base_uri": "https://localhost:8080/",
          "height": 108
        },
        "outputId": "85fe2983-03f6-412e-eae0-41a74754799d"
      },
      "outputs": [
        {
          "output_type": "error",
          "ename": "SyntaxError",
          "evalue": "invalid syntax (<ipython-input-4-0332a0c0b8c4>, line 20)",
          "traceback": [
            "\u001b[0;36m  File \u001b[0;32m\"<ipython-input-4-0332a0c0b8c4>\"\u001b[0;36m, line \u001b[0;32m20\u001b[0m\n\u001b[0;31m    print(test1(2,,5))\u001b[0m\n\u001b[0m                  ^\u001b[0m\n\u001b[0;31mSyntaxError\u001b[0m\u001b[0;31m:\u001b[0m invalid syntax\n"
          ]
        }
      ],
      "source": [
        "def greet(name):\n",
        "    return f\"Hello, {name}!\"\n",
        "\n",
        "print(greet(\"Developer\"))\n",
        "\n",
        "# Functions can return more than one value\n",
        "def add_square(x, y):\n",
        "  return x + y, x * y\n",
        "\n",
        "a,s = add_square(3, 4)\n",
        "print(a, s)\n",
        "\n",
        "# This is a form of tuple unpacking. The conside swap is a good example as well\n",
        "b, a = a, s\n",
        "\n",
        "# Functions in python take positional and keyword arguments.\n",
        "# Every function can essentially be represented by this:\n",
        "def any_func(*args, **kwargs):\n",
        "  print(f\"args: {type(args)} - {args}\")\n",
        "  print(f\"kwargs: {type(kwargs)}  {kwargs}\")\n",
        "\n",
        "any_func(1, 2, 3, a=4, b=5)\n",
        "\n",
        "# An Argument is determined to be a keyword arg by the caller not the function\n",
        "def my_func(name, age):\n",
        "  print(name, age)\n",
        "\n",
        "# These are used as keyword args\n",
        "my_func(name='Bob', age=30 )\n",
        "\n",
        "# These are positional\n",
        "my_func('Bob', 30)\n",
        "\n",
        "print(\"\\nas keyword args\")\n",
        "any_func(name='Bob', age=30)\n",
        "\n",
        "print(\"\\nas positional args\")\n",
        "any_func('Bob', 30)\n",
        "\n",
        "# Functions are first class in python\n",
        "def execute_func(my_func, *args, **kwargs):\n",
        "  return my_func(*args, **kwargs)\n",
        "\n",
        "print(\"\\npass function as arg\")\n",
        "execute_func(add_square, 3, 4)\n"
      ]
    },
    {
      "cell_type": "markdown",
      "id": "ed147bc2",
      "metadata": {
        "id": "ed147bc2"
      },
      "source": [
        "## Type Conversion\n",
        "\n",
        "Sometimes you'll need to convert data types explicitly. Use `int()`, `float()`, `str()` etc.\n",
        "\n",
        "Example: converting a numeric string to a number for math."
      ]
    },
    {
      "cell_type": "code",
      "execution_count": null,
      "id": "e117540a",
      "metadata": {
        "id": "e117540a"
      },
      "outputs": [],
      "source": [
        "age_str = \"42\"\n",
        "age = int(age_str)\n",
        "print(age + 10)\n",
        "\n",
        "# Implicit Type Conversion in Python\n",
        "\n",
        "# Python performs implicit type conversion (also called type coercion) in several scenarios. Here are examples of the most common cases:\n",
        "\n",
        "## 1. Numeric Type Conversions\n",
        "\n",
        "### Integer to Float\n",
        "x = 5\n",
        "y = 2.0\n",
        "z = x + y  # x is implicitly converted to float\n",
        "print(z)  # 7.0\n",
        "print(type(z))  # <class 'float'>\n",
        "\n",
        "### Integer to Complex\n",
        "a = 10\n",
        "b = 5j\n",
        "c = a + b  # a is implicitly converted to complex\n",
        "print(c)  # (10+5j)\n",
        "print(type(c))  # <class 'complex'>\n",
        "\n",
        "### Float to Complex\n",
        "a = 3.5\n",
        "b = 2j\n",
        "c = a + b  # a is implicitly converted to complex\n",
        "print(c)  # (3.5+2j)\n",
        "print(type(c))  # <class 'complex'>\n",
        "\n",
        "## 2. Boolean Conversions\n",
        "\n",
        "### Boolean in Numeric Operations\n",
        "a = 5\n",
        "b = True  # True is implicitly treated as 1\n",
        "c = a + b\n",
        "print(c)  # 6\n",
        "print(type(c))  # <class 'int'>\n",
        "\n",
        "d = False  # False is implicitly treated as 0\n",
        "e = a + d\n",
        "print(e)  # 5\n",
        "print(type(e))  # <class 'int'>\n",
        "\n",
        "\n",
        "## 3. String Concatenation\n",
        "### String and Other Types in f-strings\n",
        "age = 30\n",
        "message = f\"I am {age} years old\"  # age is implicitly converted to string\n",
        "print(message)  # \"I am 30 years old\"\n",
        "\n",
        "\n",
        "## 4. Comparison Operations\n",
        "\n",
        "### Mixed Type Comparisons\n",
        "print(10 > 9.5)  # True (int and float comparison)\n",
        "print(True > 0)  # True (bool and int comparison)\n",
        "print(3 > True)  # True (int and bool comparison)\n",
        "\n",
        "## 5. Collection and Membership Operations\n",
        "\n",
        "### Implicit Conversion in Membership Tests\n",
        "my_list = [1, 2, 3]\n",
        "print(1.0 in my_list)  # True - float 1.0 is implicitly compared to int 1\n"
      ]
    },
    {
      "cell_type": "markdown",
      "id": "2318b38a",
      "metadata": {
        "id": "2318b38a"
      },
      "source": [
        "## String Formatting\n",
        "\n",
        "**f-strings** are the preferred way to interpolate variables into strings in modern Python 3.6+.\n",
        "They’re more readable and faster than older formats. But for runtime evaluation .format can be used."
      ]
    },
    {
      "cell_type": "code",
      "execution_count": null,
      "id": "6b747eb8",
      "metadata": {
        "id": "6b747eb8"
      },
      "outputs": [],
      "source": [
        "name = \"Alice\"\n",
        "score = 95.6\n",
        "print(f\"Student {name} scored {score:.1f}% on the test.\")\n",
        "\n",
        "my_vars = {\"name\": \"Sam\", \"age\": 29}\n",
        "print(\"My name is {name} and I am {age} years old.\".format(name=my_vars['name'], age=my_vars['age']))\n",
        "\n",
        "# Or you can just use ** to unpack the dictionary\n",
        "print(\"My name is {name} and I am {age} years old.\".format(**my_vars))"
      ]
    },
    {
      "cell_type": "markdown",
      "id": "7e3b4384",
      "metadata": {
        "id": "7e3b4384"
      },
      "source": [
        "## None and Nulls\n",
        "\n",
        "In Python, `None` is the equivalent of `NULL` in SQL. It represents the absence of a value. Truthiness in python is a little more implicit than some other languages, https://docs.python.org/3/library/stdtypes.html#truth-value-testing"
      ]
    },
    {
      "cell_type": "code",
      "execution_count": null,
      "id": "9139783f",
      "metadata": {
        "id": "9139783f"
      },
      "outputs": [],
      "source": [
        "value = None\n",
        "if value is None:\n",
        "    print(\"No value set yet\")\n",
        "\n",
        "# All these return False\n",
        "if '' or 0 or [] or {} or () or None:\n",
        "  print(\"Truthy\")\n",
        "else:\n",
        "  print(\"Falsey\")\n"
      ]
    },
    {
      "cell_type": "markdown",
      "id": "d2fa6af3",
      "metadata": {
        "id": "d2fa6af3"
      },
      "source": [
        "## Boolean Logic\n",
        "\n",
        "Use `and`, `or`, and `not` for boolean expressions.\n",
        "\n",
        "Comparison operators: `==`, `!=`, `<`, `>`, `<=`, `>=`"
      ]
    },
    {
      "cell_type": "code",
      "execution_count": null,
      "id": "77a1d470",
      "metadata": {
        "id": "77a1d470"
      },
      "outputs": [],
      "source": [
        "x = 10\n",
        "print(x > 5 and x < 15)  # True\n",
        "print(not x == 10)       # False\n",
        "\n",
        "\n",
        "# Conditionals short-circuit\n",
        "a = ''\n",
        "b = 1\n",
        "c = 5\n",
        "\n",
        "x = a or b or c\n",
        "x"
      ]
    },
    {
      "cell_type": "markdown",
      "id": "8f117596",
      "metadata": {
        "id": "8f117596"
      },
      "source": [
        "## Scope and Indentation\n",
        "\n",
        "Python uses **indentation** (usually 4 spaces) to define blocks of logic. There are no curly braces like C or semicolons like SQL.\n",
        "\n",
        "Variable scope is determined by indentation level — what's inside vs outside the function or loop."
      ]
    },
    {
      "cell_type": "code",
      "execution_count": null,
      "id": "27f01c4c",
      "metadata": {
        "id": "27f01c4c"
      },
      "outputs": [],
      "source": [
        "from math import e\n",
        "x = 10\n",
        "\n",
        "def example():\n",
        "    x = 5  # Scoped inside function\n",
        "    print(\"Inside function:\", x)\n",
        "\n",
        "def example2():\n",
        "    # Generally you don't want to use this\n",
        "    global x\n",
        "    print(\"Inside function:\", x)\n",
        "    x = 5\n",
        "\n",
        "print(x)\n",
        "example()\n",
        "example2()\n",
        "print(x)"
      ]
    },
    {
      "cell_type": "code",
      "source": [
        "# A pythonic way to create a deck of cards\n",
        "import collections\n",
        "\n",
        "# The namedtuple class allows you to work with tuples with named references\n",
        "Card = collections.namedtuple('Card', ['rank', 'suit'])\n",
        "\n",
        "suits = ['hearts', 'diamonds', 'clubs', 'spades']\n",
        "ranks = [str(n) for n in range(2, 11)] + list('JQKA')\n",
        "deck = [Card(rank, suit) for suit in suits for rank in ranks]\n",
        "\n",
        "## Slicing and Dicing with python sequences\n",
        "\n",
        "# Take the first 5 cards from the deck\n",
        "first5 = deck[:5]\n",
        "print(f\"first 5 cards: {first5}\")\n",
        "\n",
        "# Take the last 5 cards from the deck\n",
        "last5 = deck[-5:]\n",
        "print(f\"last 5 cards: {last5}\")\n",
        "\n",
        "# Take every other card from the deck\n",
        "every_other = deck[::2]\n",
        "\n",
        "# Reverse the deck\n",
        "reversed = deck[::-1]\n",
        "\n",
        "# Take a random card from the deck\n",
        "import random\n",
        "print(random.choice(deck))\n",
        "\n",
        "# shuffle the deck\n",
        "print(deck[:3])\n",
        "random.shuffle(deck)\n",
        "print(deck[:3])\n",
        "\n",
        "\n"
      ],
      "metadata": {
        "id": "S3SVviIZtovV"
      },
      "id": "S3SVviIZtovV",
      "execution_count": null,
      "outputs": []
    },
    {
      "cell_type": "markdown",
      "source": [
        "## Key Python OOP Differences\n",
        "\n",
        "1. **Explicit `self` parameter**: In method definitions, you must explicitly include the first parameter (usually named `self`), which references the instance.\n",
        "\n",
        "2. **No access modifiers**: Python has no true private/protected members. It uses conventions:\n",
        "   - Single underscore (`_health`) suggests \"protected\" (implementation detail)\n",
        "   - Double underscore (`__secret`) triggers name mangling (`_ClassName__secret`)\n",
        "\n",
        "3. **Properties over getters/setters**: Use `@property` decorators for controlled attribute access instead of Java-style getters/setters.\n",
        "\n",
        "4. **Dynamic nature**: You can add attributes to instances at runtime.\n",
        "\n",
        "5. **Duck typing**: Python emphasizes \"if it walks like a duck and quacks like a duck, it's a duck\" rather than strict type checking.\n",
        "\n",
        "6. **Special methods**: Python uses \"dunder\" (double underscore) methods like `__str__` and `__eq__` for operator overloading and customizing object behavior.\n",
        "\n",
        "7. **Multiple inheritance**: Python supports multiple inheritance (not shown in this example) with the Method Resolution Order (MRO) determining which parent's method is called.\n",
        "\n",
        "8. **Class variables vs. instance variables**: Be careful with mutable class variables as they're shared across all instances.\n",
        "\n",
        "9. **Super() behavior**: In Python 3, `super()` doesn't require class name parameters.\n",
        "\n",
        "10. **No method overloading**: Python doesn't support traditional method overloading by parameter count/type, but can simulate it with default parameters and type checking."
      ],
      "metadata": {
        "id": "HBYj3j-0boz-"
      },
      "id": "HBYj3j-0boz-"
    },
    {
      "cell_type": "code",
      "source": [
        "# Python's object-oriented programming (OOP) has some unique characteristics that might surprise programmers coming\n",
        "# from languages like Java, C++, or C#. Let's explore these differences through an example:\n",
        "\n",
        "class PyPet:\n",
        "    # Class variable (shared across all instances)\n",
        "    species = \"Generic Pet\"\n",
        "\n",
        "    # Constructor (note the self parameter)\n",
        "    def __init__(self, name, age=0):\n",
        "        # Instance variables (unique to each instance)\n",
        "        self.name = name\n",
        "        self.age = age\n",
        "        self._health = 100  # Convention for \"protected\" attribute (single underscore)\n",
        "        self.__secret = \"hidden\"  # Name mangling for \"private\" attribute (double underscore)\n",
        "\n",
        "    # Instance method (requires self)\n",
        "    def make_sound(self):\n",
        "        return \"Generic pet sound\"\n",
        "\n",
        "    # Property - pythonic getter/setter\n",
        "    @property\n",
        "    def health(self):\n",
        "        return self._health\n",
        "\n",
        "    @health.setter\n",
        "    def health(self, value):\n",
        "        self._health = max(0, min(100, value))\n",
        "\n",
        "    # Static method (no access to instance)\n",
        "    @staticmethod\n",
        "    def pet_info():\n",
        "        return \"Pets are great companions!\"\n",
        "\n",
        "    # Class method (access to class, not instance)\n",
        "    @classmethod\n",
        "    def create_default_pet(cls):\n",
        "        return cls(\"Default\")\n",
        "\n",
        "    # Special/magic method for string representation\n",
        "    def __str__(self):\n",
        "        return f\"{self.name}, aged {self.age}\"\n",
        "\n",
        "    # Special method for developer-oriented representation\n",
        "    def __repr__(self):\n",
        "        return f\"PyPet('{self.name}', {self.age})\"\n",
        "\n",
        "    # Special method for object comparison\n",
        "    def __eq__(self, other):\n",
        "        if not isinstance(other, PyPet):\n",
        "            return False\n",
        "        return self.name == other.name and self.age == other.age\n",
        "\n",
        "\n",
        "# Inheritance example\n",
        "class Dog(PyPet):\n",
        "    species = \"Canine\"  # Override class variable\n",
        "\n",
        "    def __init__(self, name, age=0, breed=\"Mixed\"):\n",
        "        # Call parent constructor\n",
        "        super().__init__(name, age)\n",
        "        self.breed = breed\n",
        "\n",
        "    # Override method\n",
        "    def make_sound(self):\n",
        "        return \"Woof!\"\n",
        "\n",
        "    # Add new method\n",
        "    def fetch(self, item):\n",
        "        return f\"{self.name} fetched the {item}!\"\n",
        "\n",
        "\n",
        "# Demo code\n",
        "# This is the typical convention used when executing code in a python script\n",
        "# it allows one to add code that will only be called when the file is invoked directly\n",
        "# instead of from another module or package via an import\n",
        "if __name__ == \"__main__\":\n",
        "    # Creating instances\n",
        "    pet = PyPet(\"Fluffy\", 2)\n",
        "    dog = Dog(\"Buddy\", 3, \"Golden Retriever\")\n",
        "\n",
        "    # Accessing attributes\n",
        "    print(f\"Pet: {pet.name}, age: {pet.age}, species: {pet.species}\")\n",
        "    print(f\"Dog: {dog.name}, age: {dog.age}, species: {dog.species}, breed: {dog.breed}\")\n",
        "\n",
        "    # Calling methods\n",
        "    print(pet.make_sound())\n",
        "    print(dog.make_sound())\n",
        "    print(dog.fetch(\"ball\"))\n",
        "\n",
        "    # Using property\n",
        "    pet.health = 150  # Will be capped at 100\n",
        "    print(f\"Pet health: {pet.health}\")\n",
        "\n",
        "    # Accessing \"private\" attributes\n",
        "    print(f\"Protected attribute: {pet._health}\")  # Works, but convention says \"don't touch\"\n",
        "    try:\n",
        "        print(pet.__secret)  # This will fail\n",
        "    except AttributeError:\n",
        "        print(\"Can't access __secret directly\")\n",
        "    print(f\"Name-mangled attribute: {pet._PyPet__secret}\")  # This works but is discouraged\n",
        "\n",
        "    # Static and class methods\n",
        "    print(PyPet.pet_info())\n",
        "    default_pet = PyPet.create_default_pet()\n",
        "    print(default_pet)\n",
        "\n",
        "    # Special methods in action\n",
        "    print(str(pet))\n",
        "    print(repr(pet))\n",
        "    pet2 = PyPet(\"Fluffy\", 2)\n",
        "    print(f\"Are pets equal? {pet == pet2}\")\n",
        "\n",
        "    # Dynamic attribute addition (not possible in many OO languages)\n",
        "    pet.favorite_toy = \"Mouse\"\n",
        "    print(f\"Favorite toy: {pet.favorite_toy}\")\n",
        "\n",
        "    # Duck typing example\n",
        "    class Cat:\n",
        "        def make_sound(self):\n",
        "            return \"Meow!\"\n",
        "\n",
        "    def animal_speaks(animal):\n",
        "        # No type checking, just relies on object having the method\n",
        "        return animal.make_sound()\n",
        "\n",
        "    print(animal_speaks(pet))\n",
        "    print(animal_speaks(dog))\n",
        "    print(animal_speaks(Cat()))\n",
        "\n"
      ],
      "metadata": {
        "id": "WvWqg1omblVH"
      },
      "id": "WvWqg1omblVH",
      "execution_count": null,
      "outputs": []
    },
    {
      "cell_type": "code",
      "source": [],
      "metadata": {
        "id": "-dfnNiRRhN4G"
      },
      "id": "-dfnNiRRhN4G",
      "execution_count": null,
      "outputs": []
    },
    {
      "cell_type": "code",
      "source": [
        "# Python has generators which allow for memory efficient pipelining\n",
        "import os\n",
        "\n",
        "def read_file(filename):\n",
        "  counter = 0\n",
        "  with open(filename, 'r') as file:\n",
        "    for line in file:\n",
        "      counter += 1\n",
        "      if counter % 100 == 0:\n",
        "        print(f\"read {counter} lines\")\n",
        "      yield line\n",
        "\n",
        "def process_data(data):\n",
        "  counter = 0\n",
        "  for line in data:\n",
        "      counter += 1\n",
        "      if counter % 100 == 0:\n",
        "        print(f\"processed {counter} lines\")\n",
        "      yield line[::-1]\n",
        "\n",
        "def save_processed_data(data):\n",
        "  counter = 0\n",
        "\n",
        "  if os.path.exists(output_path):\n",
        "    mode = 'a'\n",
        "  else:\n",
        "    mode = 'w'\n",
        "\n",
        "  with open('output.txt', mode) as file:\n",
        "    for line in data:\n",
        "      counter += 1\n",
        "      if counter % 100 == 0:\n",
        "        print(f\"Saved {counter} lines\")\n",
        "      file.write(line)\n",
        "\n",
        "# Delete output file if exists\n",
        "output_path = 'output.txt'\n",
        "if os.path.exists(output_path):\n",
        "  os.remove(output_path)\n",
        "\n",
        "data = read_file('/content/sample_data/california_housing_test.csv')\n",
        "processed_data = process_data(data)\n",
        "save_processed_data(processed_data)\n",
        "\n",
        "print(\"I'm done\")\n"
      ],
      "metadata": {
        "id": "jjODT5gYfvov",
        "colab": {
          "base_uri": "https://localhost:8080/"
        },
        "outputId": "9fcedd87-de87-40bc-ace4-6f4afdd879a4"
      },
      "id": "jjODT5gYfvov",
      "execution_count": null,
      "outputs": [
        {
          "output_type": "stream",
          "name": "stdout",
          "text": [
            "read 100 lines\n",
            "processed 100 lines\n",
            "Savec 100 lines\n",
            "read 200 lines\n",
            "processed 200 lines\n",
            "Savec 200 lines\n",
            "read 300 lines\n",
            "processed 300 lines\n",
            "Savec 300 lines\n",
            "read 400 lines\n",
            "processed 400 lines\n",
            "Savec 400 lines\n",
            "read 500 lines\n",
            "processed 500 lines\n",
            "Savec 500 lines\n",
            "read 600 lines\n",
            "processed 600 lines\n",
            "Savec 600 lines\n",
            "read 700 lines\n",
            "processed 700 lines\n",
            "Savec 700 lines\n",
            "read 800 lines\n",
            "processed 800 lines\n",
            "Savec 800 lines\n",
            "read 900 lines\n",
            "processed 900 lines\n",
            "Savec 900 lines\n",
            "read 1000 lines\n",
            "processed 1000 lines\n",
            "Savec 1000 lines\n",
            "read 1100 lines\n",
            "processed 1100 lines\n",
            "Savec 1100 lines\n",
            "read 1200 lines\n",
            "processed 1200 lines\n",
            "Savec 1200 lines\n",
            "read 1300 lines\n",
            "processed 1300 lines\n",
            "Savec 1300 lines\n",
            "read 1400 lines\n",
            "processed 1400 lines\n",
            "Savec 1400 lines\n",
            "read 1500 lines\n",
            "processed 1500 lines\n",
            "Savec 1500 lines\n",
            "read 1600 lines\n",
            "processed 1600 lines\n",
            "Savec 1600 lines\n",
            "read 1700 lines\n",
            "processed 1700 lines\n",
            "Savec 1700 lines\n",
            "read 1800 lines\n",
            "processed 1800 lines\n",
            "Savec 1800 lines\n",
            "read 1900 lines\n",
            "processed 1900 lines\n",
            "Savec 1900 lines\n",
            "read 2000 lines\n",
            "processed 2000 lines\n",
            "Savec 2000 lines\n",
            "read 2100 lines\n",
            "processed 2100 lines\n",
            "Savec 2100 lines\n",
            "read 2200 lines\n",
            "processed 2200 lines\n",
            "Savec 2200 lines\n",
            "read 2300 lines\n",
            "processed 2300 lines\n",
            "Savec 2300 lines\n",
            "read 2400 lines\n",
            "processed 2400 lines\n",
            "Savec 2400 lines\n",
            "read 2500 lines\n",
            "processed 2500 lines\n",
            "Savec 2500 lines\n",
            "read 2600 lines\n",
            "processed 2600 lines\n",
            "Savec 2600 lines\n",
            "read 2700 lines\n",
            "processed 2700 lines\n",
            "Savec 2700 lines\n",
            "read 2800 lines\n",
            "processed 2800 lines\n",
            "Savec 2800 lines\n",
            "read 2900 lines\n",
            "processed 2900 lines\n",
            "Savec 2900 lines\n",
            "read 3000 lines\n",
            "processed 3000 lines\n",
            "Savec 3000 lines\n",
            "I'm done?\n"
          ]
        }
      ]
    },
    {
      "cell_type": "markdown",
      "source": [
        "# Python resources\n",
        "\n",
        "1. Fluent Python\n",
        "  https://github.com/piyusharma95/gyaan_ke_panne/blob/master/Fluent%20Python%20Clear%20Concise%20and%20Effective%20Programming.pdf\n",
        "2. RealPython\n",
        "  https://realpython.com/"
      ],
      "metadata": {
        "id": "a-aiCbUYvGzC"
      },
      "id": "a-aiCbUYvGzC"
    }
  ],
  "metadata": {
    "colab": {
      "provenance": []
    },
    "language_info": {
      "name": "python"
    },
    "kernelspec": {
      "name": "python3",
      "display_name": "Python 3"
    }
  },
  "nbformat": 4,
  "nbformat_minor": 5
}